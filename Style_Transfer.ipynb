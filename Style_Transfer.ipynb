{
  "nbformat": 4,
  "nbformat_minor": 0,
  "metadata": {
    "colab": {
      "name": "Style_Transfer.ipynb",
      "provenance": [],
      "collapsed_sections": []
    },
    "kernelspec": {
      "name": "python3",
      "display_name": "Python 3"
    },
    "accelerator": "GPU",
    "widgets": {
      "application/vnd.jupyter.widget-state+json": {
        "4e2a229cdfee49558884d0dd789d2ec6": {
          "model_module": "@jupyter-widgets/controls",
          "model_name": "HBoxModel",
          "state": {
            "_view_name": "HBoxView",
            "_dom_classes": [],
            "_model_name": "HBoxModel",
            "_view_module": "@jupyter-widgets/controls",
            "_model_module_version": "1.5.0",
            "_view_count": null,
            "_view_module_version": "1.5.0",
            "box_style": "",
            "layout": "IPY_MODEL_52dd77f205314f73b43985fea1e262d1",
            "_model_module": "@jupyter-widgets/controls",
            "children": [
              "IPY_MODEL_588a9b776119486ab7fd942465572ccf",
              "IPY_MODEL_e7496b394e2d42ad86403c5dcbac1e5e"
            ]
          }
        },
        "52dd77f205314f73b43985fea1e262d1": {
          "model_module": "@jupyter-widgets/base",
          "model_name": "LayoutModel",
          "state": {
            "_view_name": "LayoutView",
            "grid_template_rows": null,
            "right": null,
            "justify_content": null,
            "_view_module": "@jupyter-widgets/base",
            "overflow": null,
            "_model_module_version": "1.2.0",
            "_view_count": null,
            "flex_flow": null,
            "width": null,
            "min_width": null,
            "border": null,
            "align_items": null,
            "bottom": null,
            "_model_module": "@jupyter-widgets/base",
            "top": null,
            "grid_column": null,
            "overflow_y": null,
            "overflow_x": null,
            "grid_auto_flow": null,
            "grid_area": null,
            "grid_template_columns": null,
            "flex": null,
            "_model_name": "LayoutModel",
            "justify_items": null,
            "grid_row": null,
            "max_height": null,
            "align_content": null,
            "visibility": null,
            "align_self": null,
            "height": null,
            "min_height": null,
            "padding": null,
            "grid_auto_rows": null,
            "grid_gap": null,
            "max_width": null,
            "order": null,
            "_view_module_version": "1.2.0",
            "grid_template_areas": null,
            "object_position": null,
            "object_fit": null,
            "grid_auto_columns": null,
            "margin": null,
            "display": null,
            "left": null
          }
        },
        "588a9b776119486ab7fd942465572ccf": {
          "model_module": "@jupyter-widgets/controls",
          "model_name": "FloatProgressModel",
          "state": {
            "_view_name": "ProgressView",
            "style": "IPY_MODEL_185223be3b2c4f20bca1e0ebf1d3b307",
            "_dom_classes": [],
            "description": "100%",
            "_model_name": "FloatProgressModel",
            "bar_style": "success",
            "max": 574673361,
            "_view_module": "@jupyter-widgets/controls",
            "_model_module_version": "1.5.0",
            "value": 574673361,
            "_view_count": null,
            "_view_module_version": "1.5.0",
            "orientation": "horizontal",
            "min": 0,
            "description_tooltip": null,
            "_model_module": "@jupyter-widgets/controls",
            "layout": "IPY_MODEL_99f1d4cf25a04ade8216d171da6630dd"
          }
        },
        "e7496b394e2d42ad86403c5dcbac1e5e": {
          "model_module": "@jupyter-widgets/controls",
          "model_name": "HTMLModel",
          "state": {
            "_view_name": "HTMLView",
            "style": "IPY_MODEL_f2230920e64948348b61488d13f04465",
            "_dom_classes": [],
            "description": "",
            "_model_name": "HTMLModel",
            "placeholder": "​",
            "_view_module": "@jupyter-widgets/controls",
            "_model_module_version": "1.5.0",
            "value": " 548M/548M [07:06&lt;00:00, 1.35MB/s]",
            "_view_count": null,
            "_view_module_version": "1.5.0",
            "description_tooltip": null,
            "_model_module": "@jupyter-widgets/controls",
            "layout": "IPY_MODEL_c9b637d5ad0f432fbeb6c5b684255d99"
          }
        },
        "185223be3b2c4f20bca1e0ebf1d3b307": {
          "model_module": "@jupyter-widgets/controls",
          "model_name": "ProgressStyleModel",
          "state": {
            "_view_name": "StyleView",
            "_model_name": "ProgressStyleModel",
            "description_width": "initial",
            "_view_module": "@jupyter-widgets/base",
            "_model_module_version": "1.5.0",
            "_view_count": null,
            "_view_module_version": "1.2.0",
            "bar_color": null,
            "_model_module": "@jupyter-widgets/controls"
          }
        },
        "99f1d4cf25a04ade8216d171da6630dd": {
          "model_module": "@jupyter-widgets/base",
          "model_name": "LayoutModel",
          "state": {
            "_view_name": "LayoutView",
            "grid_template_rows": null,
            "right": null,
            "justify_content": null,
            "_view_module": "@jupyter-widgets/base",
            "overflow": null,
            "_model_module_version": "1.2.0",
            "_view_count": null,
            "flex_flow": null,
            "width": null,
            "min_width": null,
            "border": null,
            "align_items": null,
            "bottom": null,
            "_model_module": "@jupyter-widgets/base",
            "top": null,
            "grid_column": null,
            "overflow_y": null,
            "overflow_x": null,
            "grid_auto_flow": null,
            "grid_area": null,
            "grid_template_columns": null,
            "flex": null,
            "_model_name": "LayoutModel",
            "justify_items": null,
            "grid_row": null,
            "max_height": null,
            "align_content": null,
            "visibility": null,
            "align_self": null,
            "height": null,
            "min_height": null,
            "padding": null,
            "grid_auto_rows": null,
            "grid_gap": null,
            "max_width": null,
            "order": null,
            "_view_module_version": "1.2.0",
            "grid_template_areas": null,
            "object_position": null,
            "object_fit": null,
            "grid_auto_columns": null,
            "margin": null,
            "display": null,
            "left": null
          }
        },
        "f2230920e64948348b61488d13f04465": {
          "model_module": "@jupyter-widgets/controls",
          "model_name": "DescriptionStyleModel",
          "state": {
            "_view_name": "StyleView",
            "_model_name": "DescriptionStyleModel",
            "description_width": "",
            "_view_module": "@jupyter-widgets/base",
            "_model_module_version": "1.5.0",
            "_view_count": null,
            "_view_module_version": "1.2.0",
            "_model_module": "@jupyter-widgets/controls"
          }
        },
        "c9b637d5ad0f432fbeb6c5b684255d99": {
          "model_module": "@jupyter-widgets/base",
          "model_name": "LayoutModel",
          "state": {
            "_view_name": "LayoutView",
            "grid_template_rows": null,
            "right": null,
            "justify_content": null,
            "_view_module": "@jupyter-widgets/base",
            "overflow": null,
            "_model_module_version": "1.2.0",
            "_view_count": null,
            "flex_flow": null,
            "width": null,
            "min_width": null,
            "border": null,
            "align_items": null,
            "bottom": null,
            "_model_module": "@jupyter-widgets/base",
            "top": null,
            "grid_column": null,
            "overflow_y": null,
            "overflow_x": null,
            "grid_auto_flow": null,
            "grid_area": null,
            "grid_template_columns": null,
            "flex": null,
            "_model_name": "LayoutModel",
            "justify_items": null,
            "grid_row": null,
            "max_height": null,
            "align_content": null,
            "visibility": null,
            "align_self": null,
            "height": null,
            "min_height": null,
            "padding": null,
            "grid_auto_rows": null,
            "grid_gap": null,
            "max_width": null,
            "order": null,
            "_view_module_version": "1.2.0",
            "grid_template_areas": null,
            "object_position": null,
            "object_fit": null,
            "grid_auto_columns": null,
            "margin": null,
            "display": null,
            "left": null
          }
        }
      }
    }
  },
  "cells": [
    {
      "cell_type": "code",
      "metadata": {
        "id": "uZpwL73ZtcbF",
        "colab_type": "code",
        "colab": {}
      },
      "source": [
        "import torch\n",
        "import torchvision\n",
        "from torchvision.models import vgg19\n",
        "from torchvision import  transforms\n",
        "from torchvision.transforms import functional as TF\n",
        "from PIL import Image"
      ],
      "execution_count": null,
      "outputs": []
    },
    {
      "cell_type": "code",
      "metadata": {
        "id": "ceqWKPE6VhpE",
        "colab_type": "code",
        "colab": {}
      },
      "source": [
        "class Style_Content_Extractor(torch.nn.Module):\n",
        "  def __init__(self,content_layer,style_layers):\n",
        "\n",
        "    super(Style_Content_Extractor, self).__init__()\n",
        "\n",
        "    # content layers and style layers\n",
        "    self.content_layer = content_layer\n",
        "    self.style_layers = style_layers\n",
        "    \n",
        "    # maximum number of layers in the model\n",
        "    max_layer = max(content_layer,max(style_layers))\n",
        "    features = list(vgg19(pretrained = True).features)[:max_layer+1]\n",
        "\n",
        "    self.features = torch.nn.ModuleList(features).eval()\n",
        "\n",
        "    \n",
        "  def forward(self, x):\n",
        "    x = TF.normalize(x,mean=[0.485, 0.456, 0.406],std=[0.229, 0.224, 0.225])\n",
        "    x = x.unsqueeze(0)\n",
        "\n",
        "    # forward propagation\n",
        "    style = []\n",
        "    content = None\n",
        "    for ii,model in enumerate(self.features):\n",
        "      x = model(x)\n",
        "      if ii in self.style_layers:\n",
        "        style.append(x)\n",
        "      if ii == self.content_layer:\n",
        "        content = x\n",
        "    \n",
        "    return content,style"
      ],
      "execution_count": null,
      "outputs": []
    },
    {
      "cell_type": "code",
      "metadata": {
        "id": "IFxnnJWEW-VW",
        "colab_type": "code",
        "colab": {
          "base_uri": "https://localhost:8080/",
          "height": 616,
          "referenced_widgets": [
            "4e2a229cdfee49558884d0dd789d2ec6",
            "52dd77f205314f73b43985fea1e262d1",
            "588a9b776119486ab7fd942465572ccf",
            "e7496b394e2d42ad86403c5dcbac1e5e",
            "185223be3b2c4f20bca1e0ebf1d3b307",
            "99f1d4cf25a04ade8216d171da6630dd",
            "f2230920e64948348b61488d13f04465",
            "c9b637d5ad0f432fbeb6c5b684255d99"
          ]
        },
        "outputId": "a3f2ae37-d6de-4e01-d095-49b7775abdf5"
      },
      "source": [
        "# selected layers\n",
        "extractor = Style_Content_Extractor(18,[4,9,11,15,18,24,27]).cuda()\n",
        "extractor.eval()\n",
        "extractor.requires_grad_(False)"
      ],
      "execution_count": null,
      "outputs": [
        {
          "output_type": "stream",
          "text": [
            "Downloading: \"https://download.pytorch.org/models/vgg19-dcbb9e9d.pth\" to /root/.cache/torch/checkpoints/vgg19-dcbb9e9d.pth\n"
          ],
          "name": "stderr"
        },
        {
          "output_type": "display_data",
          "data": {
            "application/vnd.jupyter.widget-view+json": {
              "model_id": "4e2a229cdfee49558884d0dd789d2ec6",
              "version_minor": 0,
              "version_major": 2
            },
            "text/plain": [
              "HBox(children=(FloatProgress(value=0.0, max=574673361.0), HTML(value='')))"
            ]
          },
          "metadata": {
            "tags": []
          }
        },
        {
          "output_type": "stream",
          "text": [
            "\n"
          ],
          "name": "stdout"
        },
        {
          "output_type": "execute_result",
          "data": {
            "text/plain": [
              "Style_Content_Extractor(\n",
              "  (features): ModuleList(\n",
              "    (0): Conv2d(3, 64, kernel_size=(3, 3), stride=(1, 1), padding=(1, 1))\n",
              "    (1): ReLU(inplace=True)\n",
              "    (2): Conv2d(64, 64, kernel_size=(3, 3), stride=(1, 1), padding=(1, 1))\n",
              "    (3): ReLU(inplace=True)\n",
              "    (4): MaxPool2d(kernel_size=2, stride=2, padding=0, dilation=1, ceil_mode=False)\n",
              "    (5): Conv2d(64, 128, kernel_size=(3, 3), stride=(1, 1), padding=(1, 1))\n",
              "    (6): ReLU(inplace=True)\n",
              "    (7): Conv2d(128, 128, kernel_size=(3, 3), stride=(1, 1), padding=(1, 1))\n",
              "    (8): ReLU(inplace=True)\n",
              "    (9): MaxPool2d(kernel_size=2, stride=2, padding=0, dilation=1, ceil_mode=False)\n",
              "    (10): Conv2d(128, 256, kernel_size=(3, 3), stride=(1, 1), padding=(1, 1))\n",
              "    (11): ReLU(inplace=True)\n",
              "    (12): Conv2d(256, 256, kernel_size=(3, 3), stride=(1, 1), padding=(1, 1))\n",
              "    (13): ReLU(inplace=True)\n",
              "    (14): Conv2d(256, 256, kernel_size=(3, 3), stride=(1, 1), padding=(1, 1))\n",
              "    (15): ReLU(inplace=True)\n",
              "    (16): Conv2d(256, 256, kernel_size=(3, 3), stride=(1, 1), padding=(1, 1))\n",
              "    (17): ReLU(inplace=True)\n",
              "    (18): MaxPool2d(kernel_size=2, stride=2, padding=0, dilation=1, ceil_mode=False)\n",
              "    (19): Conv2d(256, 512, kernel_size=(3, 3), stride=(1, 1), padding=(1, 1))\n",
              "    (20): ReLU(inplace=True)\n",
              "    (21): Conv2d(512, 512, kernel_size=(3, 3), stride=(1, 1), padding=(1, 1))\n",
              "    (22): ReLU(inplace=True)\n",
              "    (23): Conv2d(512, 512, kernel_size=(3, 3), stride=(1, 1), padding=(1, 1))\n",
              "    (24): ReLU(inplace=True)\n",
              "    (25): Conv2d(512, 512, kernel_size=(3, 3), stride=(1, 1), padding=(1, 1))\n",
              "    (26): ReLU(inplace=True)\n",
              "    (27): MaxPool2d(kernel_size=2, stride=2, padding=0, dilation=1, ceil_mode=False)\n",
              "  )\n",
              ")"
            ]
          },
          "metadata": {
            "tags": []
          },
          "execution_count": 3
        }
      ]
    },
    {
      "cell_type": "code",
      "metadata": {
        "id": "ROipWmfixqqP",
        "colab_type": "code",
        "colab": {}
      },
      "source": [
        "# method for loading images\n",
        "def image_loader(image_name):\n",
        "    image = Image.open(image_name)\n",
        "    image = TF.resize(image,(500))\n",
        "    image = TF.to_tensor(image)\n",
        "    return image\n"
      ],
      "execution_count": null,
      "outputs": []
    },
    {
      "cell_type": "code",
      "metadata": {
        "id": "YnCqf4-vYOVv",
        "colab_type": "code",
        "colab": {}
      },
      "source": [
        "# method for computing styling descriptions as gram matrix\n",
        "def gram_matrix(style_tensor):\n",
        "  return torch.einsum('bcij,bdij->bcd', style_tensor, style_tensor)/(style_tensor.shape[0]*style_tensor.shape[1]*style_tensor.shape[2])\n"
      ],
      "execution_count": null,
      "outputs": []
    },
    {
      "cell_type": "code",
      "metadata": {
        "id": "x6zxVWojyScA",
        "colab_type": "code",
        "colab": {}
      },
      "source": [
        "# method for computing content loss\n",
        "def content_loss_fn(content_op,content_input,weight):\n",
        "  return weight*((content_input - content_op)**2).sum()"
      ],
      "execution_count": null,
      "outputs": []
    },
    {
      "cell_type": "code",
      "metadata": {
        "id": "rGOMxbpXJFEo",
        "colab_type": "code",
        "colab": {}
      },
      "source": [
        "# method for total variation loss, used for smoothing\n",
        "def total_variation_loss(y,variance_weight):\n",
        "    g variance_weight*(torch.sum(torch.abs(y[:, :, :-1] - y[ :, :, 1:])) + torch.sum(torch.abs(y[ :, :-1, :] - y[ :, 1:, :])))/y.shape[0]"
      ],
      "execution_count": null,
      "outputs": []
    },
    {
      "cell_type": "code",
      "metadata": {
        "id": "FhRo1eOgzCgU",
        "colab_type": "code",
        "colab": {}
      },
      "source": [
        "# method for style loss\n",
        "def style_loss_fn(style_op,style_input,weights):\n",
        "  loss = 0\n",
        "  for style_i,style_o in zip(style_op,style_input):\n",
        "    gram_i = gram_matrix(style_i)\n",
        "    gram_o = gram_matrix(style_o)\n",
        "    loss += ((gram_i - gram_o)**2).sum()\n",
        "  return loss*weights"
      ],
      "execution_count": null,
      "outputs": []
    },
    {
      "cell_type": "code",
      "metadata": {
        "id": "nRWP4l-7310F",
        "colab_type": "code",
        "colab": {}
      },
      "source": [
        "import seaborn as sns\n",
        "sns.set(rc={'figure.figsize':(12,7)})\n",
        "\n",
        "import numpy as np\n",
        "import matplotlib.pyplot as plt"
      ],
      "execution_count": null,
      "outputs": []
    },
    {
      "cell_type": "code",
      "metadata": {
        "id": "zVv0tJx0kAgQ",
        "colab_type": "code",
        "colab": {}
      },
      "source": [
        "def get_stylized_image(content,style,extractor,epochs,content_weight,style_weight,total_variation_loss_weight,learning_rate):\n",
        "\n",
        "  # extracting style description and content description from given images \n",
        "  stylized_output = content.clone()\n",
        "  stylized_output.requires_grad_(True)\n",
        "  content_input,_ = extractor(content.cuda())\n",
        "  _,style_s = extractor(style.cuda())\n",
        "\n",
        "\n",
        "  optimizer = torch.optim.Adam(params = [stylized_output],lr=learning_rate)\n",
        "  loss = np.zeros((epochs))\n",
        "  \n",
        "  # optimizing input image for style\n",
        "  for e in range(epochs):\n",
        "    optimizer.zero_grad()\n",
        "    content_o,style_o = extractor(stylized_output.cuda())\n",
        "\n",
        "    # loss computation\n",
        "    content_loss = content_loss_fn(content_o,content_input,content_weight)\n",
        "    style_loss = style_loss_fn(style_o,style_s,style_weights)\n",
        "    variance_loss = total_variation_loss(stylized_output.cuda(),total_variation_loss_weight)\n",
        "    total_loss = style_loss + content_loss + variance_loss\n",
        "\n",
        "    # backprop\n",
        "    total_loss.backward()\n",
        "    optimizer.step()\n",
        "\n",
        "    loss[e] = total_loss.item()\n",
        "    \n",
        "    stylized_output.data.clamp_(0, 1)\n",
        "    if e%50==0:\n",
        "      print(f'Epoch {e}: Loss:{total_loss:.2f}. Style loss:{style_loss:.2f}. Variance Loss:{variance_loss:.2f}. Content Loss: {content_loss:.2f}')\n",
        "      display(TF.to_pil_image(stylized_output))\n",
        "    \n",
        "  ax =  sns.lineplot(data = loss)\n",
        "  ax.set(ylabel = 'Training Loss')\n",
        "  plt.show()\n",
        "  return stylized_output\n",
        "\n",
        "\n"
      ],
      "execution_count": null,
      "outputs": []
    },
    {
      "cell_type": "code",
      "metadata": {
        "id": "l_h8fUKUhyFU",
        "colab_type": "code",
        "colab": {}
      },
      "source": [
        "content = image_loader('/content/20170110004814_IMG_5719.JPG')\n",
        "style = image_loader('/content/style_4.jpg')"
      ],
      "execution_count": null,
      "outputs": []
    },
    {
      "cell_type": "code",
      "metadata": {
        "id": "HOOPkuoWjSve",
        "colab_type": "code",
        "colab": {}
      },
      "source": [
        "epochs = 2000\n",
        "content_weight = 0.000001\n",
        "style_weight = 0.1\n",
        "variance_weight = 0.00005\n"
      ],
      "execution_count": null,
      "outputs": []
    },
    {
      "cell_type": "code",
      "metadata": {
        "id": "9lxQz1Qqk_WM",
        "colab_type": "code",
        "colab": {}
      },
      "source": [
        "output = get_stylized_image(content,\n",
        "                   style,\n",
        "                   extractor,\n",
        "                   epochs,\n",
        "                   content_weight,\n",
        "                   style_weight,\n",
        "                   variance_weight,\n",
        "                   learning_rate=0.004)"
      ],
      "execution_count": null,
      "outputs": []
    },
    {
      "cell_type": "code",
      "metadata": {
        "id": "qNDUuLIeDMmS",
        "colab_type": "code",
        "colab": {}
      },
      "source": [
        "content = image_loader('/content/noisy_mountains.jpg')\n",
        "output = get_stylized_image(content,\n",
        "                   style,\n",
        "                   extractor,\n",
        "                   epochs,\n",
        "                   content_weight,\n",
        "                   style_weight,\n",
        "                   variance_weight,\n",
        "                   learning_rate=0.004)\n"
      ],
      "execution_count": null,
      "outputs": []
    },
    {
      "cell_type": "code",
      "metadata": {
        "id": "OQLhSRCuDUU2",
        "colab_type": "code",
        "colab": {}
      },
      "source": [
        "content = image_loader('/content/Scattered_billiards_balls.jpg')\n",
        "output = get_stylized_image(content,\n",
        "                   style,\n",
        "                   extractor,\n",
        "                   2500,\n",
        "                   content_weight,\n",
        "                   style_weight,\n",
        "                   variance_weight,\n",
        "                   learning_rate=0.004)\n"
      ],
      "execution_count": null,
      "outputs": []
    },
    {
      "cell_type": "code",
      "metadata": {
        "id": "cx9rf7XrGi8j",
        "colab_type": "code",
        "colab": {}
      },
      "source": [
        "content = image_loader('/content/IMG20200413154412.jpg')\n",
        "output = get_stylized_image(content,\n",
        "                   style,\n",
        "                   extractor,\n",
        "                   2500,\n",
        "                   content_weight,\n",
        "                   style_weight,\n",
        "                   variance_weight,\n",
        "                   learning_rate=0.004)\n"
      ],
      "execution_count": null,
      "outputs": []
    }
  ]
}